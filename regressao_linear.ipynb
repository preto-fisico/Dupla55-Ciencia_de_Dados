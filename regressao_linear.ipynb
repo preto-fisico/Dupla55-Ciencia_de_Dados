{
  "nbformat": 4,
  "nbformat_minor": 0,
  "metadata": {
    "colab": {
      "provenance": [],
      "authorship_tag": "ABX9TyPEBWgR1//PLwh7M0OwRy57",
      "include_colab_link": true
    },
    "kernelspec": {
      "name": "python3",
      "display_name": "Python 3"
    },
    "language_info": {
      "name": "python"
    }
  },
  "cells": [
    {
      "cell_type": "markdown",
      "metadata": {
        "id": "view-in-github",
        "colab_type": "text"
      },
      "source": [
        "<a href=\"https://colab.research.google.com/github/preto-fisico/Dupla55-Ciencia_de_Dados/blob/main/regressao_linear.ipynb\" target=\"_parent\"><img src=\"https://colab.research.google.com/assets/colab-badge.svg\" alt=\"Open In Colab\"/></a>"
      ]
    },
    {
      "cell_type": "code",
      "execution_count": 1,
      "metadata": {
        "colab": {
          "base_uri": "https://localhost:8080/"
        },
        "id": "YV8qtFpNERrJ",
        "outputId": "88bdb940-47d9-4fff-9ae7-5e6a2366b793"
      },
      "outputs": [
        {
          "output_type": "stream",
          "name": "stdout",
          "text": [
            "Fibonacci(0) = 0\n",
            "Fibonacci(1) = 1\n",
            "Fibonacci(2) = 1\n",
            "Fibonacci(3) = 2\n",
            "Fibonacci(4) = 3\n",
            "Fibonacci(5) = 5\n",
            "Fibonacci(6) = 8\n",
            "Fibonacci(7) = 13\n",
            "Fibonacci(8) = 21\n",
            "Fibonacci(9) = 34\n"
          ]
        }
      ],
      "source": [
        "\n",
        "\n",
        "\n",
        "\n",
        "\n",
        "\n",
        "\n",
        "\n",
        "\n",
        "\n",
        "\n",
        "\n",
        "\n",
        "\n",
        "\n",
        "\n",
        "\n",
        "\n"
      ]
    }
  ]
}